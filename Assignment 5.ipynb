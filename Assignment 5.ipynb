{
 "cells": [
  {
   "cell_type": "code",
   "execution_count": 1,
   "id": "3341525c",
   "metadata": {},
   "outputs": [],
   "source": [
    "#Write a program to print numbers from 1 to 10, but stop if the number is 5."
   ]
  },
  {
   "cell_type": "code",
   "execution_count": 2,
   "id": "b06869b2",
   "metadata": {},
   "outputs": [
    {
     "name": "stdout",
     "output_type": "stream",
     "text": [
      "0\n",
      "1\n",
      "2\n",
      "3\n",
      "4\n",
      "5\n",
      "Loop Ends Here\n"
     ]
    }
   ],
   "source": [
    "for i in range (11):\n",
    "    print(i)\n",
    "    if i ==5:\n",
    "        break\n",
    "print(\"Loop Ends Here\")"
   ]
  },
  {
   "cell_type": "code",
   "execution_count": 3,
   "id": "733cefa4",
   "metadata": {},
   "outputs": [],
   "source": [
    "#Write a program to iterate through a list and stop when encountering a specific element."
   ]
  },
  {
   "cell_type": "code",
   "execution_count": 4,
   "id": "20f5c2e2",
   "metadata": {},
   "outputs": [
    {
     "name": "stdout",
     "output_type": "stream",
     "text": [
      "list1\n",
      "list2\n",
      "list3\n",
      "Iteration breaks here\n"
     ]
    }
   ],
   "source": [
    "s = [\"list1\",\"list2\",\"list3\",\"list4\"]\n",
    "for i in s:\n",
    "    print(i)\n",
    "    if i ==\"list3\":\n",
    "        break\n",
    "print(\"Iteration breaks here\")"
   ]
  },
  {
   "cell_type": "code",
   "execution_count": 5,
   "id": "647f2c21",
   "metadata": {},
   "outputs": [],
   "source": [
    "#Write a program to skip printing even numbers from 1 to 10."
   ]
  },
  {
   "cell_type": "code",
   "execution_count": 6,
   "id": "cead29a2",
   "metadata": {},
   "outputs": [
    {
     "name": "stdout",
     "output_type": "stream",
     "text": [
      "1\n",
      "3\n",
      "5\n",
      "7\n",
      "9\n"
     ]
    }
   ],
   "source": [
    "for i in range (1,11,2):\n",
    "    print(i)"
   ]
  },
  {
   "cell_type": "code",
   "execution_count": 7,
   "id": "fa597e06",
   "metadata": {},
   "outputs": [],
   "source": [
    "#Write a program to print numbers from 0 to 9 using range()."
   ]
  },
  {
   "cell_type": "code",
   "execution_count": 8,
   "id": "3666648f",
   "metadata": {},
   "outputs": [
    {
     "name": "stdout",
     "output_type": "stream",
     "text": [
      "0\n",
      "1\n",
      "2\n",
      "3\n",
      "4\n",
      "5\n",
      "6\n",
      "7\n",
      "8\n"
     ]
    }
   ],
   "source": [
    "for i in range(0,9):\n",
    "    print(i)"
   ]
  },
  {
   "cell_type": "code",
   "execution_count": 9,
   "id": "0efcee7d",
   "metadata": {},
   "outputs": [],
   "source": [
    "#Write a program to print multiplication tables from 1 to 5, \n",
    "#but stop after the first table is printed for each number."
   ]
  },
  {
   "cell_type": "code",
   "execution_count": 10,
   "id": "d31ea3b3",
   "metadata": {},
   "outputs": [
    {
     "name": "stdout",
     "output_type": "stream",
     "text": [
      "1 x 1 =  1\n",
      "1 x 2 =  2\n",
      "1 x 3 =  3\n",
      "1 x 4 =  4\n",
      "1 x 5 =  5\n",
      "1 x 6 =  6\n",
      "1 x 7 =  7\n",
      "1 x 8 =  8\n",
      "1 x 9 =  9\n",
      "1 x 10 =  10\n",
      "\n",
      "2 x 1 =  2\n",
      "2 x 2 =  4\n",
      "2 x 3 =  6\n",
      "2 x 4 =  8\n",
      "2 x 5 =  10\n",
      "2 x 6 =  12\n",
      "2 x 7 =  14\n",
      "2 x 8 =  16\n",
      "2 x 9 =  18\n",
      "2 x 10 =  20\n",
      "\n",
      "3 x 1 =  3\n",
      "3 x 2 =  6\n",
      "3 x 3 =  9\n",
      "3 x 4 =  12\n",
      "3 x 5 =  15\n",
      "3 x 6 =  18\n",
      "3 x 7 =  21\n",
      "3 x 8 =  24\n",
      "3 x 9 =  27\n",
      "3 x 10 =  30\n",
      "\n",
      "4 x 1 =  4\n",
      "4 x 2 =  8\n",
      "4 x 3 =  12\n",
      "4 x 4 =  16\n",
      "4 x 5 =  20\n",
      "4 x 6 =  24\n",
      "4 x 7 =  28\n",
      "4 x 8 =  32\n",
      "4 x 9 =  36\n",
      "4 x 10 =  40\n",
      "\n",
      "5 x 1 =  5\n",
      "5 x 2 =  10\n",
      "5 x 3 =  15\n",
      "5 x 4 =  20\n",
      "5 x 5 =  25\n",
      "5 x 6 =  30\n",
      "5 x 7 =  35\n",
      "5 x 8 =  40\n",
      "5 x 9 =  45\n",
      "5 x 10 =  50\n",
      "\n"
     ]
    }
   ],
   "source": [
    "for i in range(1, 6):\n",
    "    '''if i == 2:\n",
    "        break'''\n",
    "    for x in range(1, 11):\n",
    "        print(i, \"x\", x, \"= \", i * x)\n",
    "      \n",
    "    print()"
   ]
  },
  {
   "cell_type": "code",
   "execution_count": 11,
   "id": "7baf3e14",
   "metadata": {},
   "outputs": [],
   "source": [
    "#Write a program to skip printing even numbers using a while loop."
   ]
  },
  {
   "cell_type": "code",
   "execution_count": 12,
   "id": "4756382c",
   "metadata": {},
   "outputs": [
    {
     "name": "stdout",
     "output_type": "stream",
     "text": [
      "Number: 10\n",
      "1\n",
      "3\n",
      "5\n",
      "7\n",
      "9\n"
     ]
    }
   ],
   "source": [
    "n = int(input(\"Number: \"))\n",
    "i = 1\n",
    "while n>=i:\n",
    "    print(i)\n",
    "    i = i+2\n",
    "    "
   ]
  },
  {
   "cell_type": "code",
   "execution_count": null,
   "id": "31ed5678",
   "metadata": {},
   "outputs": [],
   "source": []
  }
 ],
 "metadata": {
  "kernelspec": {
   "display_name": "Python 3 (ipykernel)",
   "language": "python",
   "name": "python3"
  },
  "language_info": {
   "codemirror_mode": {
    "name": "ipython",
    "version": 3
   },
   "file_extension": ".py",
   "mimetype": "text/x-python",
   "name": "python",
   "nbconvert_exporter": "python",
   "pygments_lexer": "ipython3",
   "version": "3.11.5"
  }
 },
 "nbformat": 4,
 "nbformat_minor": 5
}
